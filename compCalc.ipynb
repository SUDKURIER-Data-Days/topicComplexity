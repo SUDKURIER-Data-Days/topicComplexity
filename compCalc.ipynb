{
 "cells": [
  {
   "cell_type": "markdown",
   "id": "9cc436a3",
   "metadata": {},
   "source": [
    "# Suedkurier-Parser"
   ]
  },
  {
   "cell_type": "code",
   "execution_count": 1,
   "id": "3cc8bb3d",
   "metadata": {},
   "outputs": [],
   "source": [
    "# Create list and filter unimportant info\\n\n",
    "import csv\n",
    "import sys\n",
    "import ast\n",
    "import re\n",
    "import math\n",
    "from collections import defaultdict\n",
    "import pyphen\n",
    "\n",
    "csv.field_size_limit(sys.maxsize)\n",
    "def rubrikParse(rubrik):\n",
    "    rubrik = re.sub(\"[\\[\\]\\']\", \"\", rubrik)\n",
    "    rubrik = rubrik.split(\", \")\n",
    "    if len(rubrik) > 1:\n",
    "        for item in rubrik:\n",
    "            if not \"/\" in item:\n",
    "                return item\n",
    "                break\n",
    "    else:\n",
    "        return rubrik[0]\n",
    "    \n",
    "\n",
    "def parseFile(dataTuple):\n",
    "    fileName, idCol, wordCountCol, rubrikCol, bodyCol = dataTuple\n",
    "    with open(fileName,\"r\") as data:\n",
    "        reader = csv.reader(data)\n",
    "        next(reader)\n",
    "        for row in reader:\n",
    "            if len(row[rubrikCol]) > 0 and not int(row[wordCountCol]) == 0:\n",
    "                liste.append((row[idCol],\n",
    "                              int(row[wordCountCol]),\n",
    "                              rubrikParse(row[rubrikCol]),\n",
    "                              row[bodyCol])\n",
    "                            )\n"
   ]
  },
  {
   "cell_type": "code",
   "execution_count": 2,
   "id": "81558992",
   "metadata": {},
   "outputs": [],
   "source": [
    "# Prepare UWC Calculation\n",
    "with open(\"common_words.txt\", \"r\") as file:\n",
    "    common_words = file.readline().split(\", \")\n",
    "    common_words[-1][:-1]"
   ]
  },
  {
   "cell_type": "markdown",
   "id": "cf8a43ab",
   "metadata": {},
   "source": [
    "### Self-developed complexity score"
   ]
  },
  {
   "cell_type": "code",
   "execution_count": 3,
   "id": "4c836d2b",
   "metadata": {},
   "outputs": [],
   "source": [
    "# Calculate Article Score\n",
    "def article_score(article):\n",
    "    body = re.sub('[^a-zA-ZöüäÖÄÜß\\- ]', '', article[3])\n",
    "    body = body.lower()\n",
    "    body_split = body.split(\" \")\n",
    "    unique_split = list(set(body_split))\n",
    "    no_common_words = [i for i in unique_split if i not in common_words]\n",
    "    \n",
    "    # Calculate score\n",
    "    uwc = len(no_common_words)\n",
    "    score = float(int(uwc/article[1]*10000))/100\n",
    "    return [uwc,score]"
   ]
  },
  {
   "cell_type": "markdown",
   "id": "3d26cd05",
   "metadata": {},
   "source": [
    "### Wiener-Sachtextformel"
   ]
  },
  {
   "cell_type": "code",
   "execution_count": 4,
   "id": "bd6c5647",
   "metadata": {},
   "outputs": [],
   "source": [
    "# Count Syllables\n",
    "def count_sylls_german(text):\n",
    "    dic = pyphen.Pyphen(lang='de_DE')\n",
    "\n",
    "    text = re.sub(\"[^a-zA-ZäöüÄÖÜß ]\", \" \", text)  # special chars/numbers etc...\n",
    "    text = re.sub(\"\\s+\", \" \", text)  # All whitespaces characters become only one, for better splitting\n",
    "\n",
    "    num_of_sylls = 0\n",
    "    sylls_per_word = defaultdict(int)\n",
    "    chars_per_word = defaultdict(int)\n",
    "    for word in text.split(\" \"):\n",
    "        syll_counter = 0\n",
    "        # Hyphenate word (add - between syllables)\n",
    "        sylls = dic.inserted(word)\n",
    "        # Count first syllable of word as we have one less \"-\" than syllables\n",
    "        syll_counter += 1\n",
    "        # Count the other syllables\n",
    "        syll_counter += sylls.count(\"-\")\n",
    "        num_of_sylls += syll_counter\n",
    "        sylls_per_word[syll_counter] += 1\n",
    "        chars_per_word[len(word)] += 1\n",
    "\n",
    "    return num_of_sylls, sylls_per_word, chars_per_word"
   ]
  },
  {
   "cell_type": "code",
   "execution_count": 5,
   "id": "3fe10995",
   "metadata": {},
   "outputs": [],
   "source": [
    "# Count German Sentences in text\n",
    "def count_sentences_german(text):\n",
    "    \"\"\" Count number of sentences by counting terminals but avoid counting abbreviations \"\"\"\n",
    "    # Removes punctuation except terminals of sentences\n",
    "    text = re.sub(\"[^a-zA-ZäöüÄÖÜß\\.!? ]\", \" \", text)\n",
    "    # Identifies the last four characters of a sentence\n",
    "    return len(re.findall(\"[a-zäöüß)]{3}[\\.?!][\\n\\s]\", text)) + 1"
   ]
  },
  {
   "cell_type": "code",
   "execution_count": 6,
   "id": "482acd79",
   "metadata": {},
   "outputs": [],
   "source": [
    "def wiener_sachtext_formel(text):\n",
    "    # Setup Text params\n",
    "    number_of_words = text.count(\" \") + 1\n",
    "    number_of_sentences = count_sentences_german(text)\n",
    "    number_of_sylls, sylls_per_word, chars_per_word = count_sylls_german(text)\n",
    "    avg_sentence_length = number_of_words / number_of_sentences\n",
    "    avg_syllables = number_of_sylls / number_of_words\n",
    "\n",
    "    # Count Words that are particularly long\n",
    "    num_long_words = sum([v for k, v in sylls_per_word.items() if k >= 3])\n",
    "    ratio_lw = num_long_words / number_of_words\n",
    "    \n",
    "    num_very_long_words = sum([v for k, v in chars_per_word.items() if k >= 6])\n",
    "    ratio_vlw = num_very_long_words / number_of_words\n",
    "\n",
    "    avg_syll = sylls_per_word[1] / number_of_words\n",
    "\n",
    "    wsf = calc_wsf(\n",
    "        ratio_lw,\n",
    "        avg_sentence_length,\n",
    "        ratio_vlw,\n",
    "        avg_syll\n",
    "    )\n",
    "    wsf = float(int(wsf*100)) / 100\n",
    "    return wsf\n",
    "\n",
    "def calc_wsf(ms, sl, iw, es):\n",
    "    \"\"\"\n",
    "    MS: Prozentanteil der Wörter mit drei oder mehr Silben,\n",
    "    SL: mittlere Satzlänge (Anzahl Wörter),\n",
    "    IW: Prozentanteil der Wörter mit mehr als sechs Buchstaben,\n",
    "    ES: Prozentanteil der einsilbigen Wörter.\n",
    "    \"\"\"\n",
    "    # Should be between 4 and 15 but is not actually bounded so other values are possible but hint at a bad sample\n",
    "    wsf = 19.35 * ms + 0.1672 * sl + 12.97 * iw - 3.27 * es - 0.875\n",
    "    return wsf\n",
    "# ASL. Die durchschnittliche Satzlänge (Average Sentence Length) ergibt sich, indem die Anzahl der Wörter im Text durch die Anzahl der Sätze des Textes dividiert wird.\n",
    "# ASW. Die durchschnittliche Silbenanzahl pro Wort (Average Number of Syllables per Word) ergibt sich, indem die Silbenanzahl des gesamten Textes durch die Anzahl der Wörter im Text dividiert wird."
   ]
  },
  {
   "cell_type": "markdown",
   "id": "6e5e054a",
   "metadata": {},
   "source": [
    "# Run"
   ]
  },
  {
   "cell_type": "code",
   "execution_count": 9,
   "id": "3d4d7c26",
   "metadata": {},
   "outputs": [],
   "source": [
    "use_goethe = (\"goethe.csv\", 0, 2, 1, 3)\n",
    "use_cxense = (\"cxense.csv\", 4, 2, 11, 5)\n",
    "\n",
    "use = use_goethe\n",
    "\n",
    "outName = use[0][:-4] + \"_out.csv\"\n",
    "liste = []\n",
    "parseFile(use)\n",
    "\n",
    "# Calculate UWC*\n",
    "article_scores = []\n",
    "for article in liste:\n",
    "    uwc, our_score = article_score(article)\n",
    "    wiener_score = wiener_sachtext_formel(article[3])\n",
    "    article_scores.append([\n",
    "        article[2],\n",
    "        article[1],\n",
    "        uwc,\n",
    "        our_score,\n",
    "        wiener_score])\n",
    "    \n",
    "#Write to CSV\n",
    "with open(outName,\"w+\") as scores:\n",
    "    writer = csv.writer(scores,delimiter=',')\n",
    "    writer.writerows(article_scores)"
   ]
  },
  {
   "cell_type": "code",
   "execution_count": null,
   "id": "7409dde5",
   "metadata": {},
   "outputs": [],
   "source": []
  }
 ],
 "metadata": {
  "kernelspec": {
   "display_name": "Python 3 (ipykernel)",
   "language": "python",
   "name": "python3"
  },
  "language_info": {
   "codemirror_mode": {
    "name": "ipython",
    "version": 3
   },
   "file_extension": ".py",
   "mimetype": "text/x-python",
   "name": "python",
   "nbconvert_exporter": "python",
   "pygments_lexer": "ipython3",
   "version": "3.9.13"
  }
 },
 "nbformat": 4,
 "nbformat_minor": 5
}
